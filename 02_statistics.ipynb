{
  "nbformat": 4,
  "nbformat_minor": 0,
  "metadata": {
    "kernelspec": {
      "display_name": "Python 3",
      "language": "python",
      "name": "python3"
    },
    "language_info": {
      "codemirror_mode": {
        "name": "ipython",
        "version": 3
      },
      "file_extension": ".py",
      "mimetype": "text/x-python",
      "name": "python",
      "nbconvert_exporter": "python",
      "pygments_lexer": "ipython3",
      "version": "3.6.5"
    },
    "colab": {
      "name": "02_statistics.ipynb",
      "provenance": [],
      "collapsed_sections": [],
      "include_colab_link": true
    }
  },
  "cells": [
    {
      "cell_type": "markdown",
      "metadata": {
        "id": "view-in-github",
        "colab_type": "text"
      },
      "source": [
        "<a href=\"https://colab.research.google.com/github/MSaber9/2021Project2/blob/main/02_statistics.ipynb\" target=\"_parent\"><img src=\"https://colab.research.google.com/assets/colab-badge.svg\" alt=\"Open In Colab\"/></a>"
      ]
    },
    {
      "cell_type": "code",
      "metadata": {
        "id": "1068V66TmHeu"
      },
      "source": [
        "##  The purpose of this program is to provide statistics about the data contained in the dataset.\n",
        "##  Considering that some of the data are very large and some of them are very small, the graphics are created in three separate groups, so that all data can be seen:\n",
        "##          big: labels with more than 11000 numbers\n",
        "##          medium: labels with numbers between 600 and 11000\n",
        "##          small: labels with fewer than 600 numbers\n",
        "##  \n",
        "##  In the last graphics, the rates of all attacks and normal behaviors are given.\n"
      ],
      "execution_count": null,
      "outputs": []
    },
    {
      "cell_type": "code",
      "metadata": {
        "id": "YSxPb2UjmKY0"
      },
      "source": [
        "import matplotlib.pyplot as plt; plt.rcdefaults()\n",
        "import numpy as np\n",
        "import matplotlib.pyplot as plt \n",
        "import pandas as pd\n",
        "%matplotlib inline\n",
        "import time\n",
        "seconds = time.time()"
      ],
      "execution_count": null,
      "outputs": []
    },
    {
      "cell_type": "code",
      "metadata": {
        "colab": {
          "base_uri": "https://localhost:8080/"
        },
        "id": "OtyUCr1EmZtt",
        "outputId": "65792945-71ad-4c11-9567-4dfebbf4e140"
      },
      "source": [
        "from google.colab import drive\n",
        "drive.mount('/content/drive')"
      ],
      "execution_count": null,
      "outputs": [
        {
          "output_type": "stream",
          "text": [
            "Mounted at /content/drive\n"
          ],
          "name": "stdout"
        }
      ]
    },
    {
      "cell_type": "code",
      "metadata": {
        "colab": {
          "base_uri": "https://localhost:8080/"
        },
        "id": "ubto2KQDmUIl",
        "outputId": "159aa9a5-6369-40ad-ab42-7d3147303d0d"
      },
      "source": [
        "PathData = !ls '/content/drive/My Drive/Colab Notebooks/Newi/2021Project2/Data/'\n",
        "PathData"
      ],
      "execution_count": null,
      "outputs": [
        {
          "output_type": "execute_result",
          "data": {
            "text/plain": [
              "['all_data.csv',\n",
              " 'Friday-WorkingHours-Afternoon-DDos.pcap_ISCX.csv',\n",
              " 'Friday-WorkingHours-Afternoon-PortScan.pcap_ISCX.csv',\n",
              " 'Friday-WorkingHours-Morning.pcap_ISCX.csv',\n",
              " 'Monday-WorkingHours.pcap_ISCX',\n",
              " 'Monday-WorkingHours.pcap_ISCX.csv',\n",
              " 'Thursday-WorkingHours-Afternoon-Infilteration.pcap_ISCX.csv',\n",
              " 'Thursday-WorkingHours-Morning-WebAttacks.pcap_ISCX.csv',\n",
              " 'Tuesday-WorkingHours.pcap_ISCX.csv',\n",
              " 'Wednesday-workingHours.pcap_ISCX.csv']"
            ]
          },
          "metadata": {
            "tags": []
          },
          "execution_count": 8
        }
      ]
    },
    {
      "cell_type": "code",
      "metadata": {
        "colab": {
          "base_uri": "https://localhost:8080/"
        },
        "id": "1IwnbWt5mrYe",
        "outputId": "17faf73c-3a6b-4cad-c52b-8f1c52e849b3"
      },
      "source": [
        "%cd /content/drive/My Drive/Colab Notebooks/Newi/2021Project2/Data/"
      ],
      "execution_count": null,
      "outputs": [
        {
          "output_type": "stream",
          "text": [
            "/content/drive/My Drive/Colab Notebooks/Newi/2021Project2/Data\n"
          ],
          "name": "stdout"
        }
      ]
    },
    {
      "cell_type": "code",
      "metadata": {
        "colab": {
          "base_uri": "https://localhost:8080/"
        },
        "id": "DzUpkjb6mw_u",
        "outputId": "4bede2f6-8aea-4728-87f8-05b2d3c219d8"
      },
      "source": [
        "!pwd"
      ],
      "execution_count": null,
      "outputs": [
        {
          "output_type": "stream",
          "text": [
            "/content/drive/My Drive/Colab Notebooks/Newi/2021Project2/Data\n"
          ],
          "name": "stdout"
        }
      ]
    },
    {
      "cell_type": "code",
      "metadata": {
        "id": "J8Jq2SKTmPPG"
      },
      "source": [
        "#  graph creation function\n",
        "def graph(objects,performance,x_label,y_label):\n",
        "    y_pos = np.arange(len(objects))\n",
        "    plt.barh(y_pos, performance, align='center', alpha=0.5)\n",
        "    plt.yticks(y_pos, objects)\n",
        "    plt.xlabel(x_label)\n",
        "    plt.title(y_label)\n",
        "    plt.show()"
      ],
      "execution_count": null,
      "outputs": []
    },
    {
      "cell_type": "code",
      "metadata": {
        "colab": {
          "base_uri": "https://localhost:8080/"
        },
        "id": "LMwCJATlmPMJ",
        "outputId": "5853f39e-08ac-4fe4-b9fc-ad6cd6e1f72c"
      },
      "source": [
        "df=pd.read_csv('all_data.csv', usecols=[\"Label\"])\n",
        "print(df.iloc[:,0].value_counts())\n",
        "a=(df.iloc[:,0].value_counts())"
      ],
      "execution_count": null,
      "outputs": [
        {
          "output_type": "stream",
          "text": [
            "BENIGN              2019813\n",
            "DoS Hulk             231073\n",
            "PortScan             158930\n",
            "DoS GoldenEye         10293\n",
            "FTP-Patator            7938\n",
            "SSH-Patator            5897\n",
            "DoS slowloris          5796\n",
            "DoS Slowhttptest       5499\n",
            "Bot                    1966\n",
            "Infiltration             36\n",
            "Heartbleed               11\n",
            "Name: Label, dtype: int64\n"
          ],
          "name": "stdout"
        }
      ]
    },
    {
      "cell_type": "code",
      "metadata": {
        "id": "kXanl_uWmPEV"
      },
      "source": [
        "key=a.keys()\n",
        "values=a.values\n",
        "small_labels=[]\n",
        "small_values=[]\n",
        "big_labels=[]\n",
        "big_values=[]\n",
        "medium_labels=[]\n",
        "medium_values=[]\n",
        "attacak=0\n",
        "benign=0"
      ],
      "execution_count": null,
      "outputs": []
    },
    {
      "cell_type": "code",
      "metadata": {
        "id": "T6XgaZVJnEge"
      },
      "source": [
        "## In this section, the attacks are grouped under 3 groups, so that all values can be seen on the graph.\n",
        "for i in range(0,len(values)):\n",
        "    if values[i]>11000:\n",
        "        big_labels.append(str(key[i]))\n",
        "        big_values.append(values[i])\n",
        "    elif values[i]<600:\n",
        "        small_labels.append(str(key[i]))\n",
        "        small_values.append(values[i]) \n",
        "    else:\n",
        "        medium_labels.append(str(key[i]))\n",
        "        medium_values.append(values[i])\n",
        "\n",
        "    if str(key[i])==\"BENIGN\":\n",
        "        benign+=values[i]\n",
        "    else:\n",
        "        attacak+=values[i]\n",
        "        \n",
        "key =[benign,attacak]\n"
      ],
      "execution_count": null,
      "outputs": []
    },
    {
      "cell_type": "code",
      "metadata": {
        "colab": {
          "base_uri": "https://localhost:8080/",
          "height": 1000
        },
        "id": "003a58ONnMot",
        "outputId": "40358911-f862-4eda-a814-f37bd39f00e7"
      },
      "source": [
        "#functions are called to create a chartes\n",
        "labels=[\"BENIGN %\"+str(round(benign/(benign+attacak),2)*100),\n",
        "        \"ATTACK %\"+str(round(attacak/(benign+attacak),2)*100)]\n",
        "graph(big_labels,big_values,\"Numbers\",\"Attacks Labels - High-number group\")\n",
        "graph(medium_labels,medium_values,\"Numbers\",\"Attacks Labels - Medium-number group\")\n",
        "graph(small_labels,small_values,\"Numbers\",\"Attacks Labels - Small -number group\")\n",
        "graph(labels,key,\"Numbers\",\"Attack and Benign Percentage\")\n",
        "\n",
        "\n",
        "print(\"mission accomplished!\")\n",
        "print(\"Total operation time: = \",time.time()- seconds ,\"seconds\")"
      ],
      "execution_count": null,
      "outputs": [
        {
          "output_type": "display_data",
          "data": {
            "image/png": "[encoded data removed]",
            "text/plain": [
              "<Figure size 432x288 with 1 Axes>"
            ]
          },
          "metadata": {
            "tags": [],
            "needs_background": "light"
          }
        },
        {
          "output_type": "display_data",
          "data": {
            "image/png": "[encoded data removed]",
            "text/plain": [
              "<Figure size 432x288 with 1 Axes>"
            ]
          },
          "metadata": {
            "tags": [],
            "needs_background": "light"
          }
        },
        {
          "output_type": "display_data",
          "data": {
            "image/png": "[encoded data removed]",
            "text/plain": [
              "<Figure size 432x288 with 1 Axes>"
            ]
          },
          "metadata": {
            "tags": [],
            "needs_background": "light"
          }
        },
        {
          "output_type": "display_data",
          "data": {
            "image/png": "[encoded data removed]",
            "text/plain": [
              "<Figure size 432x288 with 1 Axes>"
            ]
          },
          "metadata": {
            "tags": [],
            "needs_background": "light"
          }
        },
        {
          "output_type": "stream",
          "text": [
            "mission accomplished!\n",
            "Total operation time: =  268.34508442878723 seconds\n"
          ],
          "name": "stdout"
        }
      ]
    },
    {
      "cell_type": "code",
      "metadata": {
        "id": "w0Ft3aH4mFMu"
      },
      "source": [
        ""
      ],
      "execution_count": null,
      "outputs": []
    },
    {
      "cell_type": "code",
      "metadata": {
        "id": "rnpbgWwenTR-"
      },
      "source": [
        ""
      ],
      "execution_count": null,
      "outputs": []
    }
  ]
}