{
  "nbformat": 4,
  "nbformat_minor": 0,
  "metadata": {
    "kernelspec": {
      "display_name": "Python 3",
      "language": "python",
      "name": "python3"
    },
    "language_info": {
      "codemirror_mode": {
        "name": "ipython",
        "version": 3
      },
      "file_extension": ".py",
      "mimetype": "text/x-python",
      "name": "python",
      "nbconvert_exporter": "python",
      "pygments_lexer": "ipython3",
      "version": "3.6.5"
    },
    "colab": {
      "name": "03_attack_filter.ipynb",
      "provenance": [],
      "collapsed_sections": [],
      "include_colab_link": true
    }
  },
  "cells": [
    {
      "cell_type": "markdown",
      "metadata": {
        "id": "view-in-github",
        "colab_type": "text"
      },
      "source": [
        "<a href=\"https://colab.research.google.com/github/MSaber9/2021Project2/blob/main/03_attack_filter.ipynb\" target=\"_parent\"><img src=\"https://colab.research.google.com/assets/colab-badge.svg\" alt=\"Open In Colab\"/></a>"
      ]
    },
    {
      "cell_type": "code",
      "metadata": {
        "id": "gh2ska6jn8Kj"
      },
      "source": [
        "##  The purpose of this program is to produce CSV files consisting of only one type of attack and benign flow.\n",
        "##  These files contain all attack flow and some benign data flow. The rate : (attack= 30% , benign=70%)\n",
        "##  normal data streams are randomly selected"
      ],
      "execution_count": null,
      "outputs": []
    },
    {
      "cell_type": "code",
      "metadata": {
        "id": "ioKbWwzAn8IG"
      },
      "source": [
        "import random\n",
        "import os\n",
        "import pandas as pd\n",
        "import time\n",
        "seconds = time.time()\n",
        "%matplotlib inline"
      ],
      "execution_count": null,
      "outputs": []
    },
    {
      "cell_type": "code",
      "metadata": {
        "colab": {
          "base_uri": "https://localhost:8080/"
        },
        "id": "qtTrkRXan8Fd",
        "outputId": "dc332e51-0bae-4bb2-8723-06d85c01c654"
      },
      "source": [
        "from google.colab import drive\n",
        "drive.mount('/content/drive')"
      ],
      "execution_count": null,
      "outputs": [
        {
          "output_type": "stream",
          "text": [
            "Mounted at /content/drive\n"
          ],
          "name": "stdout"
        }
      ]
    },
    {
      "cell_type": "code",
      "metadata": {
        "colab": {
          "base_uri": "https://localhost:8080/"
        },
        "id": "9dwzxeMvojD-",
        "outputId": "dafa73ac-3479-48d8-fa6e-05c3d3018b01"
      },
      "source": [
        "!ls '/content/drive/My Drive/Colab Notebooks/Newi/2021Project2/Data/'"
      ],
      "execution_count": null,
      "outputs": [
        {
          "output_type": "stream",
          "text": [
            "all_data.csv\n",
            "Friday-WorkingHours-Afternoon-DDos.pcap_ISCX.csv\n",
            "Friday-WorkingHours-Afternoon-PortScan.pcap_ISCX.csv\n",
            "Friday-WorkingHours-Morning.pcap_ISCX.csv\n",
            "Monday-WorkingHours.pcap_ISCX\n",
            "Monday-WorkingHours.pcap_ISCX.csv\n",
            "Thursday-WorkingHours-Afternoon-Infilteration.pcap_ISCX.csv\n",
            "Thursday-WorkingHours-Morning-WebAttacks.pcap_ISCX.csv\n",
            "Tuesday-WorkingHours.pcap_ISCX.csv\n",
            "Wednesday-workingHours.pcap_ISCX.csv\n"
          ],
          "name": "stdout"
        }
      ]
    },
    {
      "cell_type": "code",
      "metadata": {
        "colab": {
          "base_uri": "https://localhost:8080/"
        },
        "id": "PX_4phmNojA-",
        "outputId": "7cd30445-1bf7-4625-c860-4e5d64223570"
      },
      "source": [
        "%cd /content/drive/My Drive/Colab Notebooks/Newi/2021Project2/Data/"
      ],
      "execution_count": null,
      "outputs": [
        {
          "output_type": "stream",
          "text": [
            "/content/drive/My Drive/Colab Notebooks/Newi/2021Project2/Data\n"
          ],
          "name": "stdout"
        }
      ]
    },
    {
      "cell_type": "code",
      "metadata": {
        "colab": {
          "base_uri": "https://localhost:8080/"
        },
        "id": "of4RhWNOoi-g",
        "outputId": "2deab508-96e5-48d7-a15b-c12e63ae2b2e"
      },
      "source": [
        "!pwd"
      ],
      "execution_count": null,
      "outputs": [
        {
          "output_type": "stream",
          "text": [
            "/content/drive/My Drive/Colab Notebooks/Newi/2021Project2/Data\n"
          ],
          "name": "stdout"
        }
      ]
    },
    {
      "cell_type": "code",
      "metadata": {
        "id": "kebboFqMoi76"
      },
      "source": [
        ""
      ],
      "execution_count": null,
      "outputs": []
    },
    {
      "cell_type": "code",
      "metadata": {
        "colab": {
          "base_uri": "https://localhost:8080/"
        },
        "id": "mBYEV9bnn8Cx",
        "outputId": "b87e7610-12d3-456f-def1-56ee508ce020"
      },
      "source": [
        "def folder(f_name): #this function creates a folder named \"attacks\" in the program directory.\n",
        "    try:\n",
        "        if not os.path.exists(f_name):\n",
        "            os.makedirs(f_name)\n",
        "    except OSError:\n",
        "        print (\"Tthe folder could not be created!\")\n",
        "        \n",
        "\n",
        "\n",
        "print(\"This process may take 3 to 8 minutes, depending on the performance of your computer.\\n\\n\\n\")"
      ],
      "execution_count": null,
      "outputs": [
        {
          "output_type": "stream",
          "text": [
            "This process may take 3 to 8 minutes, depending on the performance of your computer.\n",
            "\n",
            "\n",
            "\n"
          ],
          "name": "stdout"
        }
      ]
    },
    {
      "cell_type": "code",
      "metadata": {
        "id": "cCcRLLLyoOsW"
      },
      "source": [
        "# Headers of column\n",
        "main_labels=[\"Flow ID\",\"Source IP\",\"Source Port\",\"Destination IP\",\"Destination Port\",\"Protocol\",\"Timestamp\",\"Flow Duration\",\"Total Fwd Packets\",\n",
        "   \"Total Backward Packets\",\"Total Length of Fwd Packets\",\"Total Length of Bwd Packets\",\"Fwd Packet Length Max\",\"Fwd Packet Length Min\",\n",
        "   \"Fwd Packet Length Mean\",\"Fwd Packet Length Std\",\"Bwd Packet Length Max\",\"Bwd Packet Length Min\",\"Bwd Packet Length Mean\",\"Bwd Packet Length Std\",\n",
        "   \"Flow Bytes/s\",\"Flow Packets/s\",\"Flow IAT Mean\",\"Flow IAT Std\",\"Flow IAT Max\",\"Flow IAT Min\",\"Fwd IAT Total\",\"Fwd IAT Mean\",\"Fwd IAT Std\",\"Fwd IAT Max\",\n",
        "   \"Fwd IAT Min\",\"Bwd IAT Total\",\"Bwd IAT Mean\",\"Bwd IAT Std\",\"Bwd IAT Max\",\"Bwd IAT Min\",\"Fwd PSH Flags\",\"Bwd PSH Flags\",\"Fwd URG Flags\",\"Bwd URG Flags\",\n",
        "   \"Fwd Header Length\",\"Bwd Header Length\",\"Fwd Packets/s\",\"Bwd Packets/s\",\"Min Packet Length\",\"Max Packet Length\",\"Packet Length Mean\",\"Packet Length Std\",\n",
        "   \"Packet Length Variance\",\"FIN Flag Count\",\"SYN Flag Count\",\"RST Flag Count\",\"PSH Flag Count\",\"ACK Flag Count\",\"URG Flag Count\",\"CWE Flag Count\",\n",
        "   \"ECE Flag Count\",\"Down/Up Ratio\",\"Average Packet Size\",\"Avg Fwd Segment Size\",\"Avg Bwd Segment Size\",\"Fwd Avg Bytes/Bulk\",\n",
        "   \"Fwd Avg Packets/Bulk\",\"Fwd Avg Bulk Rate\",\"Bwd Avg Bytes/Bulk\",\"Bwd Avg Packets/Bulk\",\"Bwd Avg Bulk Rate\",\"Subflow Fwd Packets\",\"Subflow Fwd Bytes\",\n",
        "   \"Subflow Bwd Packets\",\"Subflow Bwd Bytes\",\"Init_Win_bytes_forward\",\"Init_Win_bytes_backward\",\"act_data_pkt_fwd\",\n",
        "   \"min_seg_size_forward\",\"Active Mean\",\"Active Std\",\"Active Max\",\"Active Min\",\"Idle Mean\",\"Idle Std\",\"Idle Max\",\"Idle Min\",\"Label\",\"External IP\"]"
      ],
      "execution_count": null,
      "outputs": []
    },
    {
      "cell_type": "code",
      "metadata": {
        "id": "wSYI9774oQRj"
      },
      "source": [
        "main_labels=( \",\".join( i for i in main_labels ) )\n"
      ],
      "execution_count": null,
      "outputs": []
    },
    {
      "cell_type": "code",
      "metadata": {
        "id": "9UgAjaGdoQIU"
      },
      "source": [
        "attacks=[\"BENIGN\", \"Bot\", \"DDoS\", \"DoS GoldenEye\", \"DoS Hulk\", \"DoS Slowhttptest\", \"DoS slowloris\", \"FTP-Patator\", \"Heartbleed\", \"Infiltration\", \"PortScan\", \"SSH-Patator\", \"Web Attack – Brute Force\", \"Web Attack – Sql Injection\", \"Web Attack – XSS\"]\n",
        "folder(\"./attacks/\")"
      ],
      "execution_count": null,
      "outputs": []
    },
    {
      "cell_type": "code",
      "metadata": {
        "id": "bmwgVsuvoWz0"
      },
      "source": [
        "benign=2359289\n",
        "\n",
        "dict_attack={\n",
        "\"Bot\":1966,\n",
        "\"DDoS\":41835,\n",
        "\"DoS GoldenEye\":10293,\n",
        "\"DoS Hulk\":231073,\n",
        "\"DoS Slowhttptest\":5499,\n",
        "\"DoS slowloris\":5796,\n",
        "\"FTP-Patator\":7938,\n",
        "\"Heartbleed\":11,\n",
        "\"Infiltration\":36,\n",
        "\"PortScan\":158930,\n",
        "\"SSH-Patator\":5897,\n",
        "\"Web Attack - Brute Force\":1507,\n",
        "\"Web Attack - XSS\":652,\n",
        "\"Web Attack - Sql Injection\":21}"
      ],
      "execution_count": null,
      "outputs": []
    },
    {
      "cell_type": "code",
      "metadata": {
        "colab": {
          "base_uri": "https://localhost:8080/"
        },
        "id": "o-d6wzBCofqz",
        "outputId": "0e17e81f-e246-4060-a26d-707316b940fe"
      },
      "source": [
        "for i in dict_attack: # in this section, a file is opened for each attack type and is recorded at a random benign flow.\n",
        "    a,b=0,0\n",
        "    ths = open(\".\\\\attacks\\\\\"+i + \".csv\", \"w\")\n",
        "    ths.write(str(main_labels)+\"\\n\")\n",
        "    benign_num=int(benign/(dict_attack[i]*(7/3)))\n",
        "    with open(\"all_data.csv\", \"r\") as file:\n",
        "        while True:\n",
        "            try:\n",
        "                line=file.readline()\n",
        "                line=line[:-1]\n",
        "                k=line.split(\",\")\n",
        "                if k[83]==\"BENIGN\":\n",
        "                    rnd=random.randint(1,benign_num)\n",
        "                    if rnd==1:\n",
        "                            ths.write(str(line)+\"\\n\")\n",
        "                            b+=1\n",
        "                if  k[83]==i:\n",
        "                    ths.write(str(line)+\"\\n\")\n",
        "                    a+=1\n",
        "                else:\n",
        "                    continue                       \n",
        "            except:\n",
        "                break\n",
        "    ths.close()\n",
        "    print(i ,\"file is completed\\n attack:%d\\n benign:%d\\n\\n\\n \" %(a,b))"
      ],
      "execution_count": null,
      "outputs": [
        {
          "output_type": "stream",
          "text": [
            "Bot file is completed\n",
            " attack:1966\n",
            " benign:3931\n",
            "\n",
            "\n",
            " \n",
            "DDoS file is completed\n",
            " attack:0\n",
            " benign:84818\n",
            "\n",
            "\n",
            " \n",
            "DoS GoldenEye file is completed\n",
            " attack:10293\n",
            " benign:20586\n",
            "\n",
            "\n",
            " \n",
            "DoS Hulk file is completed\n",
            " attack:231073\n",
            " benign:504662\n",
            "\n",
            "\n",
            " \n",
            "DoS Slowhttptest file is completed\n",
            " attack:5499\n",
            " benign:10900\n",
            "\n",
            "\n",
            " \n",
            "DoS slowloris file is completed\n",
            " attack:5796\n",
            " benign:11540\n",
            "\n",
            "\n",
            " \n",
            "FTP-Patator file is completed\n",
            " attack:7938\n",
            " benign:15863\n",
            "\n",
            "\n",
            " \n",
            "Heartbleed file is completed\n",
            " attack:11\n",
            " benign:15\n",
            "\n",
            "\n",
            " \n",
            "Infiltration file is completed\n",
            " attack:36\n",
            " benign:94\n",
            "\n",
            "\n",
            " \n",
            "PortScan file is completed\n",
            " attack:158930\n",
            " benign:337929\n",
            "\n",
            "\n",
            " \n",
            "SSH-Patator file is completed\n",
            " attack:5897\n",
            " benign:11786\n",
            "\n",
            "\n",
            " \n",
            "Web Attack - Brute Force file is completed\n",
            " attack:0\n",
            " benign:3031\n",
            "\n",
            "\n",
            " \n",
            "Web Attack - XSS file is completed\n",
            " attack:0\n",
            " benign:1344\n",
            "\n",
            "\n",
            " \n",
            "Web Attack - Sql Injection file is completed\n",
            " attack:0\n",
            " benign:47\n",
            "\n",
            "\n",
            " \n"
          ],
          "name": "stdout"
        }
      ]
    },
    {
      "cell_type": "code",
      "metadata": {
        "id": "WLpsxq53ofnp"
      },
      "source": [
        ""
      ],
      "execution_count": null,
      "outputs": []
    },
    {
      "cell_type": "code",
      "metadata": {
        "colab": {
          "base_uri": "https://localhost:8080/"
        },
        "id": "U39VLwnvofgb",
        "outputId": "64ae746b-1ff8-42e0-ab5c-2ba9618a7cf8"
      },
      "source": [
        "##All web attack files are merged into a single file.\n",
        "webs=[\"Web Attack - Brute Force\",\"Web Attack - XSS\",\"Web Attack - Sql Injection\"]\n",
        "flag=True\n",
        "for i in webs:\n",
        "    df=pd.read_csv(\".\\\\attacks\\\\\"+str(i)+\".csv\")\n",
        "    if flag:\n",
        "        df.to_csv('.\\\\attacks\\\\Web Attack.csv' ,index = False)\n",
        "        flag=False\n",
        "    else:\n",
        "        df.to_csv('.\\\\attacks\\\\Web Attack.csv' ,index = False,header=False,mode=\"a\")\n",
        "    os.remove(\".\\\\attacks\\\\\"+str(i)+\".csv\")\n",
        "\n",
        "\n",
        "print(\"mission accomplished!\")\n",
        "print(\"operation time: = \",time.time()- seconds ,\"seconds\")\n"
      ],
      "execution_count": null,
      "outputs": [
        {
          "output_type": "stream",
          "text": [
            "mission accomplished!\n",
            "operation time: =  405.0343453884125 seconds\n"
          ],
          "name": "stdout"
        }
      ]
    },
    {
      "cell_type": "code",
      "metadata": {
        "id": "aebemRctpOjE"
      },
      "source": [
        ""
      ],
      "execution_count": null,
      "outputs": []
    },
    {
      "cell_type": "code",
      "metadata": {
        "id": "z4Qs-UpRn6Fj"
      },
      "source": [
        ""
      ],
      "execution_count": null,
      "outputs": []
    }
  ]
}