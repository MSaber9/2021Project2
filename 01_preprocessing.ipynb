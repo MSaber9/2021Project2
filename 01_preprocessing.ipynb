{
  "nbformat": 4,
  "nbformat_minor": 0,
  "metadata": {
    "kernelspec": {
      "display_name": "Python 3",
      "language": "python",
      "name": "python3"
    },
    "language_info": {
      "codemirror_mode": {
        "name": "ipython",
        "version": 3
      },
      "file_extension": ".py",
      "mimetype": "text/x-python",
      "name": "python",
      "nbconvert_exporter": "python",
      "pygments_lexer": "ipython3",
      "version": "3.6.5"
    },
    "colab": {
      "name": "01_preprocessing.ipynb",
      "provenance": [],
      "collapsed_sections": [],
      "machine_shape": "hm",
      "include_colab_link": true
    }
  },
  "cells": [
    {
      "cell_type": "markdown",
      "metadata": {
        "id": "view-in-github",
        "colab_type": "text"
      },
      "source": [
        "<a href=\"https://colab.research.google.com/github/MSaber9/2021Project2/blob/main/01_preprocessing.ipynb\" target=\"_parent\"><img src=\"https://colab.research.google.com/assets/colab-badge.svg\" alt=\"Open In Colab\"/></a>"
      ]
    },
    {
      "cell_type": "code",
      "metadata": {
        "id": "tXhXunEV_Z2q"
      },
      "source": [
        "import pandas as pd\n",
        "import os\n",
        "from sklearn import preprocessing\n",
        "import time\n",
        "seconds = time.time()\n",
        "%matplotlib inline"
      ],
      "execution_count": 3,
      "outputs": []
    },
    {
      "cell_type": "code",
      "metadata": {
        "colab": {
          "base_uri": "https://localhost:8080/"
        },
        "id": "U3aKn-c2_80a",
        "outputId": "9f94c0cb-d9c0-45f2-9526-3d45e91be8f8"
      },
      "source": [
        "from google.colab import drive\n",
        "drive.mount('/content/drive')"
      ],
      "execution_count": 4,
      "outputs": [
        {
          "output_type": "stream",
          "text": [
            "Mounted at /content/drive\n"
          ],
          "name": "stdout"
        }
      ]
    },
    {
      "cell_type": "code",
      "metadata": {
        "id": "HAHmnhjXArUj"
      },
      "source": [
        "PathData = '/content/drive/My Drive/Colab Notebooks/Newi/2021Project2/Data/'"
      ],
      "execution_count": 10,
      "outputs": []
    },
    {
      "cell_type": "code",
      "metadata": {
        "id": "RveRFbo3Kt8-"
      },
      "source": [
        "PathData = !ls '/content/drive/My Drive/Colab Notebooks/Newi/2021Project2/Data/'"
      ],
      "execution_count": 13,
      "outputs": []
    },
    {
      "cell_type": "code",
      "metadata": {
        "colab": {
          "base_uri": "https://localhost:8080/"
        },
        "id": "jsdWfHH_K8G5",
        "outputId": "73521e82-1ba9-483e-b1e3-031b9679c727"
      },
      "source": [
        "PathData"
      ],
      "execution_count": 14,
      "outputs": [
        {
          "output_type": "execute_result",
          "data": {
            "text/plain": [
              "['Friday-WorkingHours-Afternoon-DDos.pcap_ISCX.csv',\n",
              " 'Friday-WorkingHours-Afternoon-PortScan.pcap_ISCX.csv',\n",
              " 'Friday-WorkingHours-Morning.pcap_ISCX.csv',\n",
              " 'Monday-WorkingHours.pcap_ISCX',\n",
              " 'Monday-WorkingHours.pcap_ISCX.csv',\n",
              " 'Thursday-WorkingHours-Afternoon-Infilteration.pcap_ISCX.csv',\n",
              " 'Thursday-WorkingHours-Morning-WebAttacks.pcap_ISCX.csv',\n",
              " 'Tuesday-WorkingHours.pcap_ISCX.csv',\n",
              " 'Wednesday-workingHours.pcap_ISCX.csv']"
            ]
          },
          "metadata": {
            "tags": []
          },
          "execution_count": 14
        }
      ]
    },
    {
      "cell_type": "code",
      "metadata": {
        "colab": {
          "base_uri": "https://localhost:8080/"
        },
        "id": "AuAHAxGyArRr",
        "outputId": "0ab448e6-667d-472c-cae3-fb41b60b725c"
      },
      "source": [
        "!ls '/content/drive/My Drive/Colab Notebooks/Newi/2021Project2/Data/'"
      ],
      "execution_count": 15,
      "outputs": [
        {
          "output_type": "stream",
          "text": [
            "Friday-WorkingHours-Afternoon-DDos.pcap_ISCX.csv\n",
            "Friday-WorkingHours-Afternoon-PortScan.pcap_ISCX.csv\n",
            "Friday-WorkingHours-Morning.pcap_ISCX.csv\n",
            "Monday-WorkingHours.pcap_ISCX\n",
            "Monday-WorkingHours.pcap_ISCX.csv\n",
            "Thursday-WorkingHours-Afternoon-Infilteration.pcap_ISCX.csv\n",
            "Thursday-WorkingHours-Morning-WebAttacks.pcap_ISCX.csv\n",
            "Tuesday-WorkingHours.pcap_ISCX.csv\n",
            "Wednesday-workingHours.pcap_ISCX.csv\n"
          ],
          "name": "stdout"
        }
      ]
    },
    {
      "cell_type": "code",
      "metadata": {
        "colab": {
          "base_uri": "https://localhost:8080/"
        },
        "id": "-mmiQ_awL3P4",
        "outputId": "31458e85-bf60-4501-e874-ad7e7c9ea59d"
      },
      "source": [
        "%cd /content/drive/My Drive/Colab Notebooks/Newi/2021Project2/Data/"
      ],
      "execution_count": 16,
      "outputs": [
        {
          "output_type": "stream",
          "text": [
            "/content/drive/My Drive/Colab Notebooks/Newi/2021Project2/Data\n"
          ],
          "name": "stdout"
        }
      ]
    },
    {
      "cell_type": "code",
      "metadata": {
        "colab": {
          "base_uri": "https://localhost:8080/"
        },
        "id": "AmTfWfdFMaj5",
        "outputId": "0e1d685e-10d9-4aa2-e2be-032aee48d727"
      },
      "source": [
        "!pwd"
      ],
      "execution_count": 17,
      "outputs": [
        {
          "output_type": "stream",
          "text": [
            "/content/drive/My Drive/Colab Notebooks/Newi/2021Project2/Data\n"
          ],
          "name": "stdout"
        }
      ]
    },
    {
      "cell_type": "code",
      "metadata": {
        "colab": {
          "base_uri": "https://localhost:8080/"
        },
        "id": "BH3zQqxjMacQ",
        "outputId": "9d26e0c5-beb0-4e43-9567-cb51534ad8c1"
      },
      "source": [
        "!ls"
      ],
      "execution_count": 18,
      "outputs": [
        {
          "output_type": "stream",
          "text": [
            "Friday-WorkingHours-Afternoon-DDos.pcap_ISCX.csv\n",
            "Friday-WorkingHours-Afternoon-PortScan.pcap_ISCX.csv\n",
            "Friday-WorkingHours-Morning.pcap_ISCX.csv\n",
            "Monday-WorkingHours.pcap_ISCX\n",
            "Monday-WorkingHours.pcap_ISCX.csv\n",
            "Thursday-WorkingHours-Afternoon-Infilteration.pcap_ISCX.csv\n",
            "Thursday-WorkingHours-Morning-WebAttacks.pcap_ISCX.csv\n",
            "Tuesday-WorkingHours.pcap_ISCX.csv\n",
            "Wednesday-workingHours.pcap_ISCX.csv\n"
          ],
          "name": "stdout"
        }
      ]
    },
    {
      "cell_type": "code",
      "metadata": {
        "id": "KJ0hJfe6L_XR"
      },
      "source": [
        ""
      ],
      "execution_count": 89,
      "outputs": []
    },
    {
      "cell_type": "code",
      "metadata": {
        "id": "cVH2eN1iArJz"
      },
      "source": [
        "#df1=pd.read_csv(\"Friday-WorkingHours-Afternoon-DDos.pcap_ISCX.csv\",low_memory=False)\n",
        "df1=pd.read_csv(PathData[1],low_memory=False)"
      ],
      "execution_count": 21,
      "outputs": []
    },
    {
      "cell_type": "code",
      "metadata": {
        "colab": {
          "base_uri": "https://localhost:8080/",
          "height": 248
        },
        "id": "RoCDVZvPNQh5",
        "outputId": "c89cf935-7699-40a6-a818-9922b56f1ad2"
      },
      "source": [
        "df1.head(2)"
      ],
      "execution_count": 22,
      "outputs": [
        {
          "output_type": "execute_result",
          "data": {
            "text/html": [
              "<div>\n",
              "<style scoped>\n",
              "    .dataframe tbody tr th:only-of-type {\n",
              "        vertical-align: middle;\n",
              "    }\n",
              "\n",
              "    .dataframe tbody tr th {\n",
              "        vertical-align: top;\n",
              "    }\n",
              "\n",
              "    .dataframe thead th {\n",
              "        text-align: right;\n",
              "    }\n",
              "</style>\n",
              "<table border=\"1\" class=\"dataframe\">\n",
              "  <thead>\n",
              "    <tr style=\"text-align: right;\">\n",
              "      <th></th>\n",
              "      <th>Flow ID</th>\n",
              "      <th>Source IP</th>\n",
              "      <th>Source Port</th>\n",
              "      <th>Destination IP</th>\n",
              "      <th>Destination Port</th>\n",
              "      <th>Protocol</th>\n",
              "      <th>Timestamp</th>\n",
              "      <th>Flow Duration</th>\n",
              "      <th>Total Fwd Packets</th>\n",
              "      <th>Total Backward Packets</th>\n",
              "      <th>Total Length of Fwd Packets</th>\n",
              "      <th>Total Length of Bwd Packets</th>\n",
              "      <th>Fwd Packet Length Max</th>\n",
              "      <th>Fwd Packet Length Min</th>\n",
              "      <th>Fwd Packet Length Mean</th>\n",
              "      <th>Fwd Packet Length Std</th>\n",
              "      <th>Bwd Packet Length Max</th>\n",
              "      <th>Bwd Packet Length Min</th>\n",
              "      <th>Bwd Packet Length Mean</th>\n",
              "      <th>Bwd Packet Length Std</th>\n",
              "      <th>Flow Bytes/s</th>\n",
              "      <th>Flow Packets/s</th>\n",
              "      <th>Flow IAT Mean</th>\n",
              "      <th>Flow IAT Std</th>\n",
              "      <th>Flow IAT Max</th>\n",
              "      <th>Flow IAT Min</th>\n",
              "      <th>Fwd IAT Total</th>\n",
              "      <th>Fwd IAT Mean</th>\n",
              "      <th>Fwd IAT Std</th>\n",
              "      <th>Fwd IAT Max</th>\n",
              "      <th>Fwd IAT Min</th>\n",
              "      <th>Bwd IAT Total</th>\n",
              "      <th>Bwd IAT Mean</th>\n",
              "      <th>Bwd IAT Std</th>\n",
              "      <th>Bwd IAT Max</th>\n",
              "      <th>Bwd IAT Min</th>\n",
              "      <th>Fwd PSH Flags</th>\n",
              "      <th>Bwd PSH Flags</th>\n",
              "      <th>Fwd URG Flags</th>\n",
              "      <th>Bwd URG Flags</th>\n",
              "      <th>...</th>\n",
              "      <th>Max Packet Length</th>\n",
              "      <th>Packet Length Mean</th>\n",
              "      <th>Packet Length Std</th>\n",
              "      <th>Packet Length Variance</th>\n",
              "      <th>FIN Flag Count</th>\n",
              "      <th>SYN Flag Count</th>\n",
              "      <th>RST Flag Count</th>\n",
              "      <th>PSH Flag Count</th>\n",
              "      <th>ACK Flag Count</th>\n",
              "      <th>URG Flag Count</th>\n",
              "      <th>CWE Flag Count</th>\n",
              "      <th>ECE Flag Count</th>\n",
              "      <th>Down/Up Ratio</th>\n",
              "      <th>Average Packet Size</th>\n",
              "      <th>Avg Fwd Segment Size</th>\n",
              "      <th>Avg Bwd Segment Size</th>\n",
              "      <th>Fwd Header Length.1</th>\n",
              "      <th>Fwd Avg Bytes/Bulk</th>\n",
              "      <th>Fwd Avg Packets/Bulk</th>\n",
              "      <th>Fwd Avg Bulk Rate</th>\n",
              "      <th>Bwd Avg Bytes/Bulk</th>\n",
              "      <th>Bwd Avg Packets/Bulk</th>\n",
              "      <th>Bwd Avg Bulk Rate</th>\n",
              "      <th>Subflow Fwd Packets</th>\n",
              "      <th>Subflow Fwd Bytes</th>\n",
              "      <th>Subflow Bwd Packets</th>\n",
              "      <th>Subflow Bwd Bytes</th>\n",
              "      <th>Init_Win_bytes_forward</th>\n",
              "      <th>Init_Win_bytes_backward</th>\n",
              "      <th>act_data_pkt_fwd</th>\n",
              "      <th>min_seg_size_forward</th>\n",
              "      <th>Active Mean</th>\n",
              "      <th>Active Std</th>\n",
              "      <th>Active Max</th>\n",
              "      <th>Active Min</th>\n",
              "      <th>Idle Mean</th>\n",
              "      <th>Idle Std</th>\n",
              "      <th>Idle Max</th>\n",
              "      <th>Idle Min</th>\n",
              "      <th>Label</th>\n",
              "    </tr>\n",
              "  </thead>\n",
              "  <tbody>\n",
              "    <tr>\n",
              "      <th>0</th>\n",
              "      <td>192.168.10.12-192.168.10.50-35396-22-6</td>\n",
              "      <td>192.168.10.12</td>\n",
              "      <td>35396</td>\n",
              "      <td>192.168.10.50</td>\n",
              "      <td>22</td>\n",
              "      <td>6</td>\n",
              "      <td>7/7/2017 1:00</td>\n",
              "      <td>1266342</td>\n",
              "      <td>41</td>\n",
              "      <td>44</td>\n",
              "      <td>2664</td>\n",
              "      <td>6954</td>\n",
              "      <td>456</td>\n",
              "      <td>0</td>\n",
              "      <td>64.97561</td>\n",
              "      <td>109.864573</td>\n",
              "      <td>976</td>\n",
              "      <td>0</td>\n",
              "      <td>158.045455</td>\n",
              "      <td>312.67525</td>\n",
              "      <td>7595.10464</td>\n",
              "      <td>67.122468</td>\n",
              "      <td>15075.50000</td>\n",
              "      <td>104051.3997</td>\n",
              "      <td>948537.0</td>\n",
              "      <td>0.0</td>\n",
              "      <td>1266342.0</td>\n",
              "      <td>31658.550</td>\n",
              "      <td>159355.2595</td>\n",
              "      <td>996324.0</td>\n",
              "      <td>2.0</td>\n",
              "      <td>317671.0</td>\n",
              "      <td>7387.697674</td>\n",
              "      <td>19636.44809</td>\n",
              "      <td>104616.0</td>\n",
              "      <td>1.0</td>\n",
              "      <td>0</td>\n",
              "      <td>0</td>\n",
              "      <td>0</td>\n",
              "      <td>0</td>\n",
              "      <td>...</td>\n",
              "      <td>976</td>\n",
              "      <td>111.837209</td>\n",
              "      <td>239.686848</td>\n",
              "      <td>57449.78495</td>\n",
              "      <td>0</td>\n",
              "      <td>0</td>\n",
              "      <td>0</td>\n",
              "      <td>1</td>\n",
              "      <td>0</td>\n",
              "      <td>0</td>\n",
              "      <td>0</td>\n",
              "      <td>0</td>\n",
              "      <td>1</td>\n",
              "      <td>113.152941</td>\n",
              "      <td>64.97561</td>\n",
              "      <td>158.045455</td>\n",
              "      <td>1328</td>\n",
              "      <td>0</td>\n",
              "      <td>0</td>\n",
              "      <td>0</td>\n",
              "      <td>0</td>\n",
              "      <td>0</td>\n",
              "      <td>0</td>\n",
              "      <td>41</td>\n",
              "      <td>2664</td>\n",
              "      <td>44</td>\n",
              "      <td>6954</td>\n",
              "      <td>29200</td>\n",
              "      <td>243</td>\n",
              "      <td>24</td>\n",
              "      <td>32</td>\n",
              "      <td>0.0</td>\n",
              "      <td>0.0</td>\n",
              "      <td>0.0</td>\n",
              "      <td>0.0</td>\n",
              "      <td>0.0</td>\n",
              "      <td>0.0</td>\n",
              "      <td>0.0</td>\n",
              "      <td>0.0</td>\n",
              "      <td>BENIGN</td>\n",
              "    </tr>\n",
              "    <tr>\n",
              "      <th>1</th>\n",
              "      <td>192.168.10.16-192.168.10.50-60058-22-6</td>\n",
              "      <td>192.168.10.16</td>\n",
              "      <td>60058</td>\n",
              "      <td>192.168.10.50</td>\n",
              "      <td>22</td>\n",
              "      <td>6</td>\n",
              "      <td>7/7/2017 1:00</td>\n",
              "      <td>1319353</td>\n",
              "      <td>41</td>\n",
              "      <td>44</td>\n",
              "      <td>2664</td>\n",
              "      <td>6954</td>\n",
              "      <td>456</td>\n",
              "      <td>0</td>\n",
              "      <td>64.97561</td>\n",
              "      <td>109.864573</td>\n",
              "      <td>976</td>\n",
              "      <td>0</td>\n",
              "      <td>158.045455</td>\n",
              "      <td>312.67525</td>\n",
              "      <td>7289.93681</td>\n",
              "      <td>64.425518</td>\n",
              "      <td>15706.58333</td>\n",
              "      <td>104861.8701</td>\n",
              "      <td>955790.0</td>\n",
              "      <td>1.0</td>\n",
              "      <td>1319353.0</td>\n",
              "      <td>32983.825</td>\n",
              "      <td>159247.9008</td>\n",
              "      <td>996423.0</td>\n",
              "      <td>1.0</td>\n",
              "      <td>363429.0</td>\n",
              "      <td>8451.837209</td>\n",
              "      <td>21337.26261</td>\n",
              "      <td>104815.0</td>\n",
              "      <td>1.0</td>\n",
              "      <td>0</td>\n",
              "      <td>0</td>\n",
              "      <td>0</td>\n",
              "      <td>0</td>\n",
              "      <td>...</td>\n",
              "      <td>976</td>\n",
              "      <td>111.837209</td>\n",
              "      <td>239.686848</td>\n",
              "      <td>57449.78495</td>\n",
              "      <td>0</td>\n",
              "      <td>0</td>\n",
              "      <td>0</td>\n",
              "      <td>1</td>\n",
              "      <td>0</td>\n",
              "      <td>0</td>\n",
              "      <td>0</td>\n",
              "      <td>0</td>\n",
              "      <td>1</td>\n",
              "      <td>113.152941</td>\n",
              "      <td>64.97561</td>\n",
              "      <td>158.045455</td>\n",
              "      <td>1328</td>\n",
              "      <td>0</td>\n",
              "      <td>0</td>\n",
              "      <td>0</td>\n",
              "      <td>0</td>\n",
              "      <td>0</td>\n",
              "      <td>0</td>\n",
              "      <td>41</td>\n",
              "      <td>2664</td>\n",
              "      <td>44</td>\n",
              "      <td>6954</td>\n",
              "      <td>29200</td>\n",
              "      <td>243</td>\n",
              "      <td>24</td>\n",
              "      <td>32</td>\n",
              "      <td>0.0</td>\n",
              "      <td>0.0</td>\n",
              "      <td>0.0</td>\n",
              "      <td>0.0</td>\n",
              "      <td>0.0</td>\n",
              "      <td>0.0</td>\n",
              "      <td>0.0</td>\n",
              "      <td>0.0</td>\n",
              "      <td>BENIGN</td>\n",
              "    </tr>\n",
              "  </tbody>\n",
              "</table>\n",
              "<p>2 rows × 85 columns</p>\n",
              "</div>"
            ],
            "text/plain": [
              "                                  Flow ID      Source IP  ...   Idle Min   Label\n",
              "0  192.168.10.12-192.168.10.50-35396-22-6  192.168.10.12  ...        0.0  BENIGN\n",
              "1  192.168.10.16-192.168.10.50-60058-22-6  192.168.10.16  ...        0.0  BENIGN\n",
              "\n",
              "[2 rows x 85 columns]"
            ]
          },
          "metadata": {
            "tags": []
          },
          "execution_count": 22
        }
      ]
    },
    {
      "cell_type": "code",
      "metadata": {
        "colab": {
          "base_uri": "https://localhost:8080/"
        },
        "id": "yMk1EpTb_gHe",
        "outputId": "25a0e7d8-177b-475b-8c17-892c629eb410"
      },
      "source": [
        "print(\"This process may take 5 to 10 minutes, depending on the performance of your computer.\\n\\n\\n\")\n",
        "number=\"0123456789\"\n",
        "# CSV files names:\n",
        "csv_files=[\"Monday-WorkingHours.pcap_ISCX\",\n",
        "        \"Tuesday-WorkingHours.pcap_ISCX\",\n",
        "        \"Wednesday-workingHours.pcap_ISCX\",\n",
        "        \"Thursday-WorkingHours-Morning-WebAttacks.pcap_ISCX\",\n",
        "        \"Thursday-WorkingHours-Afternoon-Infilteration.pcap_ISCX\",\n",
        "        \"Friday-WorkingHours-Morning.pcap_ISCX\",\n",
        "        \"Friday-WorkingHours-Afternoon-PortScan.pcap_ISCX\",\n",
        "        \"Friday-WorkingHours-Afternoon-DDos.pcap_ISCX\",]"
      ],
      "execution_count": 23,
      "outputs": [
        {
          "output_type": "stream",
          "text": [
            "This process may take 5 to 10 minutes, depending on the performance of your computer.\n",
            "\n",
            "\n",
            "\n"
          ],
          "name": "stdout"
        }
      ]
    },
    {
      "cell_type": "code",
      "metadata": {
        "id": "pdl8TG3n_uTL"
      },
      "source": [
        "# Headers of column\n",
        "main_labels=[\"Flow ID\",\"Source IP\",\"Source Port\",\"Destination IP\",\"Destination Port\",\"Protocol\",\"Timestamp\",\"Flow Duration\",\"Total Fwd Packets\",\n",
        "   \"Total Backward Packets\",\"Total Length of Fwd Packets\",\"Total Length of Bwd Packets\",\"Fwd Packet Length Max\",\"Fwd Packet Length Min\",\n",
        "   \"Fwd Packet Length Mean\",\"Fwd Packet Length Std\",\"Bwd Packet Length Max\",\"Bwd Packet Length Min\",\"Bwd Packet Length Mean\",\"Bwd Packet Length Std\",\n",
        "   \"Flow Bytes/s\",\"Flow Packets/s\",\"Flow IAT Mean\",\"Flow IAT Std\",\"Flow IAT Max\",\"Flow IAT Min\",\"Fwd IAT Total\",\"Fwd IAT Mean\",\"Fwd IAT Std\",\"Fwd IAT Max\",\n",
        "   \"Fwd IAT Min\",\"Bwd IAT Total\",\"Bwd IAT Mean\",\"Bwd IAT Std\",\"Bwd IAT Max\",\"Bwd IAT Min\",\"Fwd PSH Flags\",\"Bwd PSH Flags\",\"Fwd URG Flags\",\"Bwd URG Flags\",\n",
        "   \"Fwd Header Length\",\"Bwd Header Length\",\"Fwd Packets/s\",\"Bwd Packets/s\",\"Min Packet Length\",\"Max Packet Length\",\"Packet Length Mean\",\"Packet Length Std\",\n",
        "   \"Packet Length Variance\",\"FIN Flag Count\",\"SYN Flag Count\",\"RST Flag Count\",\"PSH Flag Count\",\"ACK Flag Count\",\"URG Flag Count\",\"CWE Flag Count\",\n",
        "   \"ECE Flag Count\",\"Down/Up Ratio\",\"Average Packet Size\",\"Avg Fwd Segment Size\",\"Avg Bwd Segment Size\",\"faulty-Fwd Header Length\",\"Fwd Avg Bytes/Bulk\",\n",
        "   \"Fwd Avg Packets/Bulk\",\"Fwd Avg Bulk Rate\",\"Bwd Avg Bytes/Bulk\",\"Bwd Avg Packets/Bulk\",\"Bwd Avg Bulk Rate\",\"Subflow Fwd Packets\",\"Subflow Fwd Bytes\",\n",
        "   \"Subflow Bwd Packets\",\"Subflow Bwd Bytes\",\"Init_Win_bytes_forward\",\"Init_Win_bytes_backward\",\"act_data_pkt_fwd\",\n",
        "   \"min_seg_size_forward\",\"Active Mean\",\"Active Std\",\"Active Max\",\"Active Min\",\"Idle Mean\",\"Idle Std\",\"Idle Max\",\"Idle Min\",\"Label\",\"External IP\"]"
      ],
      "execution_count": 24,
      "outputs": []
    },
    {
      "cell_type": "code",
      "metadata": {
        "colab": {
          "base_uri": "https://localhost:8080/"
        },
        "id": "IW-3rP2ZN-Gp",
        "outputId": "89722444-bd0a-4169-ee65-8ab593ae2993"
      },
      "source": [
        "print (csv_files[0])\n",
        "print (PathData[0])"
      ],
      "execution_count": 25,
      "outputs": [
        {
          "output_type": "stream",
          "text": [
            "Monday-WorkingHours.pcap_ISCX\n",
            "Friday-WorkingHours-Afternoon-DDos.pcap_ISCX.csv\n"
          ],
          "name": "stdout"
        }
      ]
    },
    {
      "cell_type": "code",
      "metadata": {
        "colab": {
          "base_uri": "https://localhost:8080/"
        },
        "id": "InNdmINXPhNJ",
        "outputId": "eb909919-a757-4b22-dbd6-3bee9598e3c6"
      },
      "source": [
        "print (csv_files[0]+\".csv\")"
      ],
      "execution_count": 26,
      "outputs": [
        {
          "output_type": "stream",
          "text": [
            "Monday-WorkingHours.pcap_ISCX.csv\n"
          ],
          "name": "stdout"
        }
      ]
    },
    {
      "cell_type": "code",
      "metadata": {
        "id": "JUs5WOD4QvdR"
      },
      "source": [
        ""
      ],
      "execution_count": 26,
      "outputs": []
    },
    {
      "cell_type": "code",
      "metadata": {
        "colab": {
          "base_uri": "https://localhost:8080/"
        },
        "id": "CLU7nqwJN-mH",
        "outputId": "652bd3ec-2bfe-4ec0-cf97-9d0c1d1863df"
      },
      "source": [
        "main_labels2=main_labels\n",
        "main_labels=( \",\".join( i for i in main_labels ) )\n",
        "main_labels=main_labels+\"\\n\"\n",
        "flag=True\n",
        "for i in range(len(csv_files)):\n",
        "    ths = open(str(i)+\".csv\", \"w\")\n",
        "    ths.write(main_labels)\n",
        "    with open(csv_files[i]+\".csv\", \"r\") as file:\n",
        "        while True:\n",
        "            try:\n",
        "                line=file.readline()\n",
        "                if  line[0] in number:# this line eliminates the headers of CSV files and incomplete streams .\n",
        "                    if \" – \" in str(line): ##  if there is \"–\" character (\"–\", Unicode code:8211) in the flow ,  it will be chanced with \"-\" character ( Unicode code:45).\n",
        "                        line=(str(line).replace(\" – \",\" - \"))\n",
        "                    ths.write(str(line))\n",
        "                else:\n",
        "                    continue                       \n",
        "            except:\n",
        "                break\n",
        "    ths.close()\n",
        " \n",
        " \n",
        "    df=pd.read_csv(str(i)+\".csv\",low_memory=False)\n",
        "    df=df.fillna(0)\n",
        "\n",
        "    string_features=[\"Flow Bytes/s\",\"Flow Packets/s\"]\n",
        "    for ii in string_features: #Some data in the \"Flow Bytes / s\" and \"Flow Packets / s\" columns are not numeric. Fixing this bug in this loop\n",
        "        df[ii]=df[ii].replace('Infinity', -1)\n",
        "        df[ii]=df[ii].replace('NaN', 0)\n",
        "        number_or_not=[]\n",
        "        for iii in df[ii]:\n",
        "            try:\n",
        "                k=int(float(iii))\n",
        "                number_or_not.append(int(k))\n",
        "            except:\n",
        "                number_or_not.append(iii)\n",
        "        df[ii]=number_or_not\n",
        "\n",
        "\n",
        "\n",
        "    string_features=[]\n",
        "    for j in main_labels2: # In this section, non-numeric (string and / or categorical) properties (columns) are detected.\n",
        "        if df[j].dtype==\"object\":\n",
        "            string_features.append(j)\n",
        "    try:\n",
        "        string_features.remove('Label')#The \"Label\" property was removed from the list. Because it has to remain \"categorical\" for using with different machine learning approach.\n",
        "    except:\n",
        "        print(\"error!\")\n",
        "    labelencoder_X = preprocessing.LabelEncoder()\n",
        "\n",
        "\n",
        "\n",
        "    for ii in string_features: ## In this loop, non-numeric (string and/or categorical) properties converted to numeric features.\n",
        "        try:\n",
        "            df[ii]=labelencoder_X.fit_transform(df[ii])\n",
        "        except:\n",
        "            df[ii]=df[ii].replace('Infinity', -1)\n",
        "    df=df.drop(main_labels2[61], axis=1) ## Column 61 is deleted because it is unnecessary, column 41 (\"Fwd Header Length\" feature) had be mistakenly rewritten.\n",
        "\n",
        "\n",
        "\n",
        "    ##All CSV files are merged into a single file.\n",
        "    if flag:\n",
        "        df.to_csv('all_data.csv' ,index = False)\n",
        "        flag=False\n",
        "    else:\n",
        "        df.to_csv('all_data.csv' ,index = False,header=False,mode=\"a\")\n",
        "    os.remove(str(i)+\".csv\")\n",
        "    print(\"The pre-processing phase of the \",csv_files[i],\" file is completed.\\n\")\n",
        "    \n",
        "\n",
        "print(\"mission accomplished!\")\n",
        "print(\"Total operation time: = \",time.time()- seconds ,\"seconds\")\n",
        "    \n"
      ],
      "execution_count": 27,
      "outputs": [
        {
          "output_type": "stream",
          "text": [
            "The pre-processing phase of the  Monday-WorkingHours.pcap_ISCX  file is completed.\n",
            "\n",
            "The pre-processing phase of the  Tuesday-WorkingHours.pcap_ISCX  file is completed.\n",
            "\n",
            "The pre-processing phase of the  Wednesday-workingHours.pcap_ISCX  file is completed.\n",
            "\n",
            "The pre-processing phase of the  Thursday-WorkingHours-Morning-WebAttacks.pcap_ISCX  file is completed.\n",
            "\n",
            "The pre-processing phase of the  Thursday-WorkingHours-Afternoon-Infilteration.pcap_ISCX  file is completed.\n",
            "\n",
            "The pre-processing phase of the  Friday-WorkingHours-Morning.pcap_ISCX  file is completed.\n",
            "\n",
            "The pre-processing phase of the  Friday-WorkingHours-Afternoon-PortScan.pcap_ISCX  file is completed.\n",
            "\n",
            "The pre-processing phase of the  Friday-WorkingHours-Afternoon-DDos.pcap_ISCX  file is completed.\n",
            "\n",
            "mission accomplished!\n",
            "Total operation time: =  450.9146316051483 seconds\n"
          ],
          "name": "stdout"
        }
      ]
    },
    {
      "cell_type": "code",
      "metadata": {
        "id": "xKca57OvN-jR"
      },
      "source": [
        ""
      ],
      "execution_count": null,
      "outputs": []
    },
    {
      "cell_type": "code",
      "metadata": {
        "id": "TYW3DMJRN9_m"
      },
      "source": [
        "##  The purpose of this program is to clear the csv files containing CICIDS2017 data from errors.\n",
        "##  the faults observed are:\n",
        "##      1-   288602 of the entries in the file \"Thursday-WorkingHours-Morning-WebAttacks.pcap_ISCX.csv\" are empty / meaningless.\n",
        "##                   (e.g. \",,,,,,,,,,,,,,,,,,,,,,,,,,,,,,,,,,,,,,,,,,,,,,,,,,,,,,,,,,,,,,,,,,,,,,,,,,,,,,,,,,,,\")\n",
        "##\n",
        "##      2-  In the original csv files, while describing the Web Attack types such as Brute Force, XSS, Sql Injection, the character used is not recognized\n",
        "##                    by the Python-Pandas library and leads to the error.\n",
        "##                    this character (\"–\", Unicode code:8211) has been changed with another character (\"-\", Unicode code:45) to correct the error.\n",
        "##\n",
        "##   After the error correction, all the csv files were made into a single file (all_date.csv) to make it easier to process."
      ],
      "execution_count": 28,
      "outputs": []
    },
    {
      "cell_type": "code",
      "metadata": {
        "id": "EEBycipP_SXf"
      },
      "source": [
        ""
      ],
      "execution_count": null,
      "outputs": []
    },
    {
      "cell_type": "code",
      "metadata": {
        "id": "SHJLaVgP_SXu"
      },
      "source": [
        ""
      ],
      "execution_count": null,
      "outputs": []
    }
  ]
}